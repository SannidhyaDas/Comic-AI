{
 "cells": [
  {
   "cell_type": "code",
   "execution_count": 8,
   "id": "470743e9",
   "metadata": {},
   "outputs": [],
   "source": [
    "import os \n",
    "from google import genai\n",
    "from google.genai import types\n",
    "from google.genai.types import Part\n",
    "from openai import OpenAI\n",
    "import base64\n",
    "from io import BytesIO\n",
    "from PIL import Image as PILImage \n",
    "from dotenv import load_dotenv"
   ]
  },
  {
   "cell_type": "markdown",
   "id": "6279990e",
   "metadata": {},
   "source": [
    "## Configuration\n",
    "- Loads API keys from .env\n",
    "- Sets OpenAI and Gemini clients\n",
    "- Defines which model to use first (primary_service) and which to use it it fails(fallback_service).\n",
    "- Keeps output file name and model names as variables for flexibility. "
   ]
  },
  {
   "cell_type": "code",
   "execution_count": 9,
   "id": "d2c0f8ec",
   "metadata": {},
   "outputs": [],
   "source": [
    "load_dotenv()\n",
    "openai_api_key = os.getenv(\"OPENAI_API_KEY\")\n",
    "gemini_api_key = os.getenv(\"GEMINI_API_KEY\")\n",
    "\n",
    "#Export to environment\n",
    "os.environ[\"OPENAI_API_KEY\"] = openai_api_key\n",
    "os.environ[\"GEMINI_API_KEY\"] = gemini_api_key"
   ]
  },
  {
   "cell_type": "code",
   "execution_count": 10,
   "id": "62b7da34",
   "metadata": {},
   "outputs": [],
   "source": [
    "#Initialize clients\n",
    "openai_client = OpenAI(api_key=openai_api_key)\n",
    "gemini_client = genai.Client(api_key=gemini_api_key)"
   ]
  },
  {
   "cell_type": "code",
   "execution_count": 11,
   "id": "a101c25d",
   "metadata": {},
   "outputs": [],
   "source": [
    "#Configuration\n",
    "primary_service = \"openai\"  #  or \"imagen\"\n",
    "fallback_service = \"imagen\" #  or \"openai\"\n",
    "output_file = \"comic_image.png\"\n",
    "openai_model = \"gpt-image-1\"\n",
    "imagen_model = \"imagen-4.0-generate-preview-06-06\"  \n",
    "gemini_model = \"gemini-2.0-flash\" "
   ]
  },
  {
   "cell_type": "markdown",
   "id": "203a1478",
   "metadata": {},
   "source": [
    "## Video Analysis and Prompt Enhancement\n",
    "- Takes a video URL and user's input description.\n",
    "- Sends both to Gemini, asking it to enhance and rewrite the input as a single structured prompt for a comic strip .\n",
    "- Returns the final enhanced prompt. "
   ]
  },
  {
   "cell_type": "code",
   "execution_count": 12,
   "id": "4ef0c80e",
   "metadata": {},
   "outputs": [],
   "source": [
    "def extract_comic_prompt_and_enhance(video_url, user_input):\n",
    "    \"\"\"Extract and enhance comic prompt using Gemini.\"\"\"\n",
    "    prompt = f\"\"\"\n",
    "    You are an expert comic strip prompt creator. Your task is to generate a single ,detailed ready-to-use prompt for an image generation AI. \n",
    "    You will use the user-provided panel descriptions and a video to create a complete prompt.\n",
    "\n",
    "    ### User Inputs:\n",
    "    {user_input}\n",
    "    \n",
    "    ### Your Task & Instructions:\n",
    "\n",
    "    1. **Analyze and Enhance:** Watch the video at the provided URL: {video_url}. Based on the video's context, add relevant details to each of the four panel descriptions. Enhance the descriptions to make them more vivid and engaging.\n",
    "\n",
    "    2. **Generate a Single Prompt:** Your entire output must be one single,cohesive prompt for the image generator.\n",
    "\n",
    "    3. **Specify Format, Style, and Composition in the Final Prompt:** The final prompt you generate must explicitly instruct the image AI to create a comic strip with the following specifications:\n",
    "       - **Layout:** A **4-panel** layout, arranged in a **2x2 grid** . Each panel must be **clearly framed and equally spaced**.\n",
    "       - **Art Style:** A distinct **comic book art style only** . Strictly instruct for **no photorealism**.\n",
    "       - **Text Elements:** Appropriate **dialogue in speech bubbles** and descriptive **caption text** for each panel.\n",
    "       - **Compositional Integrity:** Ensure that **no part of the charecters, speech bubbles, or dialogue is cropped or cutoff** by the panel borders. All text inside speech bubbles must be **fully visible and legible**.\n",
    "\n",
    "    4. **Set the Tone:**  The comic must be **humorous** . Instruct the image AI to capture **exaggerated timing and over-the-top reactions**, in the style of classic internet memes.  \n",
    "\n",
    "    5. **Content Moderation:**\n",
    "       * You must strictly filter the final prompt to **remove any harmful or inappropriate content**.\n",
    "       * **Handle Copyright-adjacent Material:**\n",
    "            * If the user's input mentions  a movie title, you **must remove the movie title** from your generated prompt. \n",
    "            * However, if a character name is mentioned, **keep the character name** . Your prompt should instruct the image AI to create a character that *resembles* the mentioned character, but is not an exact replica.\n",
    "            * Replace any specific brands or logos with generic equivalents (e.g., \"a soda can\" instead of \"Coca-Cola can\").\n",
    "            \n",
    "    6. **Final Output:** Return only the final, complete prompt for the image AI without any of your own commentary, introductions, or extra text.\n",
    "    \"\"\"\n",
    "    response = gemini_client.models.generate_content(\n",
    "        model=gemini_model,\n",
    "        contents=[\n",
    "            Part(text=prompt),\n",
    "            Part(file_data={\"file_url\": video_url, \"mime_type\": \"video/mp4\"})\n",
    "        ]\n",
    "        \n",
    "    )\n",
    "    \n",
    "    return response.text"
   ]
  },
  {
   "cell_type": "markdown",
   "id": "dd08ff8f",
   "metadata": {},
   "source": [
    "## Image Generation Functions\n",
    "- Uses OpenAI's gpt-image-1 model to generate an image from the prompt.\n",
    "- Converts base64-encoded response into raw image bytes.\n",
    "- Uses Google Imagen to generate a single comic image. \n",
    "- Returns the image object. "
   ]
  },
  {
   "cell_type": "code",
   "execution_count": 13,
   "id": "93e5cdb9",
   "metadata": {},
   "outputs": [],
   "source": [
    "# OpenAI Image Generation\n",
    "def generate_with_openai(prompt):\n",
    "    \"\"\"Generate image using OpenAI's gpt-image-1 model.\"\"\"\n",
    "    result = openai_client.images.generate(\n",
    "        model=openai_model,\n",
    "        prompt=prompt,   \n",
    "    )\n",
    "\n",
    "    image_data = result.data[0].b64_json\n",
    "    image_bytes = base64.b64decode(image_data)\n",
    "    return image_bytes\n",
    "\n",
    "# Google Imagen Generation\n",
    "def generate_with_imagen(prompt):\n",
    "    \"\"\"Generate image using Google Imagen.\"\"\"\n",
    "    response = gemini_client.models.generate_image(\n",
    "        model=imagen_model,\n",
    "        prompt=prompt,\n",
    "        config=types.GenerateImagesConfig(\n",
    "            number_of_images=1\n",
    "        )\n",
    "    )\n",
    "    \n",
    "    return response.generated_images[0].image "
   ]
  },
  {
   "cell_type": "markdown",
   "id": "eca0f319",
   "metadata": {},
   "source": [
    "## Main Generation Pipeline \n",
    "- Tries generating an image using primary service (e.g. OpenAI)\n",
    "- If it fails, switches to fallback service (e.g. Imagen).\n",
    "- Ensures program doesn't crash if one model is unavailable. "
   ]
  },
  {
   "cell_type": "code",
   "execution_count": 14,
   "id": "8df739d7",
   "metadata": {},
   "outputs": [],
   "source": [
    "def generate_image_with_fallback(prompt):\n",
    "    \"\"\"Generate image using primary service, fallback to secondary if needed.\"\"\"\n",
    "    services = {\n",
    "        \"openai\": generate_with_openai,\n",
    "        \"imagen\": generate_with_imagen\n",
    "    }\n",
    "\n",
    "    #Try primary service\n",
    "    try:\n",
    "        if primary_service in services:\n",
    "            return services[primary_service](prompt)\n",
    "        \n",
    "    except:\n",
    "        print(f\"Primary service ({primary_service}) failed. Trying fallback service...\")\n",
    "\n",
    "    #Try fallback service\n",
    "    try:\n",
    "        if fallback_service in services and fallback_service != primary_service:\n",
    "            return services[fallback_service](prompt)        \n",
    "    except:\n",
    "        print(f\"Fallback service ({fallback_service}) also failed.\")\n",
    "        return None    \n",
    "    \n",
    "\n",
    "\n",
    "def save_image(image_data, filename=None): \n",
    "    \"\"\"Save the generated image to a file.\"\"\"\n",
    "\n",
    "    output_path = filename or output_file\n",
    "\n",
    "    # Handle both bytes and image objects\n",
    "    if isinstance(image_data, bytes):\n",
    "        img = PILImage.open(BytesIO(image_data))\n",
    "    else:   \n",
    "        img = image_data\n",
    "\n",
    "    img.save(output_path)\n",
    "    print(f\"Comic saved as '{output_path}'\")\n",
    "    return output_path    "
   ]
  },
  {
   "cell_type": "markdown",
   "id": "48d1013a",
   "metadata": {},
   "source": [
    "## Complete Comic Generation "
   ]
  },
  {
   "cell_type": "code",
   "execution_count": 15,
   "id": "e61764c8",
   "metadata": {},
   "outputs": [],
   "source": [
    "def generate_comic(video_url, user_input):\n",
    "    \"\"\"Complete comic generation pipeline.\"\"\"\n",
    "\n",
    "    # Step 1: Analyse video and enhance prompt\n",
    "    print(\"Analyzing video and enhancing prompt...\")\n",
    "    enhanced_prompt = extract_comic_prompt_and_enhance(video_url, user_input)\n",
    "    print(\"Prompt enhancement complete.\")\n",
    "\n",
    "    # Step 2: Generate image \n",
    "    image_data = generate_image_with_fallback(enhanced_prompt)\n",
    "    if image_data is None:\n",
    "        print(\"Failed to generate image.\")\n",
    "        return None\n",
    "\n",
    "    # Step 3: Save the generated image\n",
    "    print(\"Saving the generated comic image...\")\n",
    "    output_path = save_image(image_data)\n",
    "    return output_path"
   ]
  },
  {
   "cell_type": "markdown",
   "id": "b6756ecd",
   "metadata": {},
   "source": [
    "### Usage Example"
   ]
  },
  {
   "cell_type": "code",
   "execution_count": 16,
   "id": "8f779138",
   "metadata": {},
   "outputs": [
    {
     "name": "stdout",
     "output_type": "stream",
     "text": [
      "Analyzing video and enhancing prompt...\n"
     ]
    },
    {
     "ename": "ValidationError",
     "evalue": "1 validation error for Part\nfile_data.file_url\n  Extra inputs are not permitted [type=extra_forbidden, input_value='https://www.youtube.com/shorts/_q_NIQwwClc', input_type=str]\n    For further information visit https://errors.pydantic.dev/2.12/v/extra_forbidden",
     "output_type": "error",
     "traceback": [
      "\u001b[31m---------------------------------------------------------------------------\u001b[39m",
      "\u001b[31mValidationError\u001b[39m                           Traceback (most recent call last)",
      "\u001b[36mCell\u001b[39m\u001b[36m \u001b[39m\u001b[32mIn[16]\u001b[39m\u001b[32m, line 8\u001b[39m\n\u001b[32m      3\u001b[39m user_input = \u001b[33m\"\"\"\u001b[39m\u001b[33m  \u001b[39m\n\u001b[32m      4\u001b[39m \u001b[33mMake the Girl a princess and the boy a knight.\u001b[39m\n\u001b[32m      5\u001b[39m \u001b[33m\"\"\"\u001b[39m\n\u001b[32m      7\u001b[39m \u001b[38;5;66;03m# Generate the comic\u001b[39;00m\n\u001b[32m----> \u001b[39m\u001b[32m8\u001b[39m output_path = \u001b[43mgenerate_comic\u001b[49m\u001b[43m(\u001b[49m\u001b[43mvideo_url\u001b[49m\u001b[43m,\u001b[49m\u001b[43m \u001b[49m\u001b[43muser_input\u001b[49m\u001b[43m)\u001b[49m\n\u001b[32m     10\u001b[39m \u001b[38;5;28;01mif\u001b[39;00m output_path:\n\u001b[32m     11\u001b[39m     \u001b[38;5;28mprint\u001b[39m(\u001b[33mf\u001b[39m\u001b[33m\"\u001b[39m\u001b[33mComic generated and saved to: \u001b[39m\u001b[38;5;132;01m{\u001b[39;00moutput_path\u001b[38;5;132;01m}\u001b[39;00m\u001b[33m\"\u001b[39m)\n",
      "\u001b[36mCell\u001b[39m\u001b[36m \u001b[39m\u001b[32mIn[15]\u001b[39m\u001b[32m, line 6\u001b[39m, in \u001b[36mgenerate_comic\u001b[39m\u001b[34m(video_url, user_input)\u001b[39m\n\u001b[32m      4\u001b[39m \u001b[38;5;66;03m# Step 1: Analyse video and enhance prompt\u001b[39;00m\n\u001b[32m      5\u001b[39m \u001b[38;5;28mprint\u001b[39m(\u001b[33m\"\u001b[39m\u001b[33mAnalyzing video and enhancing prompt...\u001b[39m\u001b[33m\"\u001b[39m)\n\u001b[32m----> \u001b[39m\u001b[32m6\u001b[39m enhanced_prompt = \u001b[43mextract_comic_prompt_and_enhance\u001b[49m\u001b[43m(\u001b[49m\u001b[43mvideo_url\u001b[49m\u001b[43m,\u001b[49m\u001b[43m \u001b[49m\u001b[43muser_input\u001b[49m\u001b[43m)\u001b[49m\n\u001b[32m      7\u001b[39m \u001b[38;5;28mprint\u001b[39m(\u001b[33m\"\u001b[39m\u001b[33mPrompt enhancement complete.\u001b[39m\u001b[33m\"\u001b[39m)\n\u001b[32m      9\u001b[39m \u001b[38;5;66;03m# Step 2: Generate image \u001b[39;00m\n",
      "\u001b[36mCell\u001b[39m\u001b[36m \u001b[39m\u001b[32mIn[12]\u001b[39m\u001b[32m, line 37\u001b[39m, in \u001b[36mextract_comic_prompt_and_enhance\u001b[39m\u001b[34m(video_url, user_input)\u001b[39m\n\u001b[32m      2\u001b[39m \u001b[38;5;250m\u001b[39m\u001b[33;03m\"\"\"Extract and enhance comic prompt using Gemini.\"\"\"\u001b[39;00m\n\u001b[32m      3\u001b[39m prompt = \u001b[33mf\u001b[39m\u001b[33m\"\"\"\u001b[39m\n\u001b[32m      4\u001b[39m \u001b[33mYou are an expert comic strip prompt creator. Your task is to generate a single ,detailed ready-to-use prompt for an image generation AI. \u001b[39m\n\u001b[32m      5\u001b[39m \u001b[33mYou will use the user-provided panel descriptions and a video to create a complete prompt.\u001b[39m\n\u001b[32m   (...)\u001b[39m\u001b[32m     31\u001b[39m \u001b[33m6. **Final Output:** Return only the final, complete prompt for the image AI without any of your own commentary, introductions, or extra text.\u001b[39m\n\u001b[32m     32\u001b[39m \u001b[33m\u001b[39m\u001b[33m\"\"\"\u001b[39m\n\u001b[32m     33\u001b[39m response = gemini_client.models.generate_content(\n\u001b[32m     34\u001b[39m     model=gemini_model,\n\u001b[32m     35\u001b[39m     contents=[\n\u001b[32m     36\u001b[39m         Part(text=prompt),\n\u001b[32m---> \u001b[39m\u001b[32m37\u001b[39m         \u001b[43mPart\u001b[49m\u001b[43m(\u001b[49m\u001b[43mfile_data\u001b[49m\u001b[43m=\u001b[49m\u001b[43m{\u001b[49m\u001b[33;43m\"\u001b[39;49m\u001b[33;43mfile_url\u001b[39;49m\u001b[33;43m\"\u001b[39;49m\u001b[43m:\u001b[49m\u001b[43m \u001b[49m\u001b[43mvideo_url\u001b[49m\u001b[43m,\u001b[49m\u001b[43m \u001b[49m\u001b[33;43m\"\u001b[39;49m\u001b[33;43mmime_type\u001b[39;49m\u001b[33;43m\"\u001b[39;49m\u001b[43m:\u001b[49m\u001b[43m \u001b[49m\u001b[33;43m\"\u001b[39;49m\u001b[33;43mvideo/mp4\u001b[39;49m\u001b[33;43m\"\u001b[39;49m\u001b[43m}\u001b[49m\u001b[43m)\u001b[49m\n\u001b[32m     38\u001b[39m     ]\n\u001b[32m     39\u001b[39m \n\u001b[32m     40\u001b[39m )\n\u001b[32m     42\u001b[39m \u001b[38;5;28;01mreturn\u001b[39;00m response.text\n",
      "\u001b[36mFile \u001b[39m\u001b[32mg:\\DataScience_projects\\Comic-AI\\venv\\Lib\\site-packages\\pydantic\\main.py:250\u001b[39m, in \u001b[36mBaseModel.__init__\u001b[39m\u001b[34m(self, **data)\u001b[39m\n\u001b[32m    248\u001b[39m \u001b[38;5;66;03m# `__tracebackhide__` tells pytest and some other tools to omit this function from tracebacks\u001b[39;00m\n\u001b[32m    249\u001b[39m __tracebackhide__ = \u001b[38;5;28;01mTrue\u001b[39;00m\n\u001b[32m--> \u001b[39m\u001b[32m250\u001b[39m validated_self = \u001b[38;5;28;43mself\u001b[39;49m\u001b[43m.\u001b[49m\u001b[43m__pydantic_validator__\u001b[49m\u001b[43m.\u001b[49m\u001b[43mvalidate_python\u001b[49m\u001b[43m(\u001b[49m\u001b[43mdata\u001b[49m\u001b[43m,\u001b[49m\u001b[43m \u001b[49m\u001b[43mself_instance\u001b[49m\u001b[43m=\u001b[49m\u001b[38;5;28;43mself\u001b[39;49m\u001b[43m)\u001b[49m\n\u001b[32m    251\u001b[39m \u001b[38;5;28;01mif\u001b[39;00m \u001b[38;5;28mself\u001b[39m \u001b[38;5;129;01mis\u001b[39;00m \u001b[38;5;129;01mnot\u001b[39;00m validated_self:\n\u001b[32m    252\u001b[39m     warnings.warn(\n\u001b[32m    253\u001b[39m         \u001b[33m'\u001b[39m\u001b[33mA custom validator is returning a value other than `self`.\u001b[39m\u001b[38;5;130;01m\\n\u001b[39;00m\u001b[33m'\u001b[39m\n\u001b[32m    254\u001b[39m         \u001b[33m\"\u001b[39m\u001b[33mReturning anything other than `self` from a top level model validator isn\u001b[39m\u001b[33m'\u001b[39m\u001b[33mt supported when validating via `__init__`.\u001b[39m\u001b[38;5;130;01m\\n\u001b[39;00m\u001b[33m\"\u001b[39m\n\u001b[32m    255\u001b[39m         \u001b[33m'\u001b[39m\u001b[33mSee the `model_validator` docs (https://docs.pydantic.dev/latest/concepts/validators/#model-validators) for more details.\u001b[39m\u001b[33m'\u001b[39m,\n\u001b[32m    256\u001b[39m         stacklevel=\u001b[32m2\u001b[39m,\n\u001b[32m    257\u001b[39m     )\n",
      "\u001b[31mValidationError\u001b[39m: 1 validation error for Part\nfile_data.file_url\n  Extra inputs are not permitted [type=extra_forbidden, input_value='https://www.youtube.com/shorts/_q_NIQwwClc', input_type=str]\n    For further information visit https://errors.pydantic.dev/2.12/v/extra_forbidden"
     ]
    }
   ],
   "source": [
    "# Example usage\n",
    "video_url = \"https://www.youtube.com/shorts/_q_NIQwwClc\"\n",
    "user_input = \"\"\"  \n",
    "Make the Girl a princess and the boy a knight.\n",
    "\"\"\"\n",
    "\n",
    "# Generate the comic\n",
    "output_path = generate_comic(video_url, user_input)\n",
    "\n",
    "if output_path:\n",
    "    print(f\"Comic generated and saved to: {output_path}\")\n",
    "\n",
    "    # Display the generated comic\n",
    "    img = PILImage.open(output_path)\n",
    "    img.show()  # Opens the image in default image viewer\n",
    "\n",
    "else:\n",
    "    print(\"Comic generation failed.\")    "
   ]
  },
  {
   "cell_type": "markdown",
   "id": "e7620539",
   "metadata": {},
   "source": [
    "### Interactive Usage"
   ]
  },
  {
   "cell_type": "code",
   "execution_count": null,
   "id": "d746532d",
   "metadata": {},
   "outputs": [],
   "source": [
    "# Interactive input version\n",
    "video_url = input(\"Enter the video URL: \").strip()\n",
    "user_input = input(\"Enter your comic description: \").strip()\n",
    "\n",
    "if video_url and user_input:\n",
    "    output_path = generate_comic(video_url, user_input)\n",
    "\n",
    "    if output_path:\n",
    "        print(f\"Comic generated and saved to: {output_path}\")\n",
    "\n",
    "        # Display the generated comic\n",
    "        img = PILImage.open(output_path)\n",
    "        img.show()  # Opens the image in default image viewer\n",
    "\n",
    "    else:\n",
    "        print(\"Comic generation failed. Please provide both video URL and description.\")"
   ]
  }
 ],
 "metadata": {
  "kernelspec": {
   "display_name": "venv",
   "language": "python",
   "name": "python3"
  },
  "language_info": {
   "codemirror_mode": {
    "name": "ipython",
    "version": 3
   },
   "file_extension": ".py",
   "mimetype": "text/x-python",
   "name": "python",
   "nbconvert_exporter": "python",
   "pygments_lexer": "ipython3",
   "version": "3.12.7"
  }
 },
 "nbformat": 4,
 "nbformat_minor": 5
}
