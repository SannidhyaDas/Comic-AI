{
 "cells": [
  {
   "cell_type": "code",
   "execution_count": 37,
   "id": "470743e9",
   "metadata": {},
   "outputs": [],
   "source": [
    "import os \n",
    "from google import genai\n",
    "from google.genai import types\n",
    "from io import BytesIO\n",
    "from PIL import Image as PILImage \n",
    "from dotenv import load_dotenv"
   ]
  },
  {
   "cell_type": "markdown",
   "id": "6279990e",
   "metadata": {},
   "source": [
    "## Configuration\n",
    "- Loads API keys from .env\n",
    "- Set Gemini client.\n",
    "- Keeps output file name and model names as variables for flexibility. "
   ]
  },
  {
   "cell_type": "code",
   "execution_count": null,
   "id": "d2c0f8ec",
   "metadata": {},
   "outputs": [],
   "source": [
    "load_dotenv()\n",
    "gemini_api_key = os.getenv(\"GEMINI_API_KEY\")\n",
    "os.environ[\"GEMINI_API_KEY\"] = gemini_api_key\n",
    "\n",
    "gemini_client = genai.Client(api_key=gemini_api_key)\n",
    "\n",
    "# Configuration \n",
    "output_file = \"comic_image.png\"\n",
    "gemini_text_model = \"gemini-2.0-flash\"  # FREE for video analysis\n",
    "gemini_image_model = \"gemini-2.0-flash-preview-image-generation\"  # FREE 500/day! #\"gemini-2.5-flash-image\""
   ]
  },
  {
   "cell_type": "markdown",
   "id": "203a1478",
   "metadata": {},
   "source": [
    "## Video Analysis and Prompt Enhancement\n",
    "- Takes a video URL and user's input description.\n",
    "- Sends both to Gemini, asking it to enhance and rewrite the input as a single structured prompt for a comic strip .\n",
    "- Returns the final enhanced prompt. "
   ]
  },
  {
   "cell_type": "code",
   "execution_count": 53,
   "id": "4ef0c80e",
   "metadata": {},
   "outputs": [],
   "source": [
    "def extract_comic_prompt_and_enhance(video_url, user_input):\n",
    "    \"\"\"Extract and enhance comic prompt using Gemini.\"\"\"\n",
    "    prompt = f\"\"\"\n",
    "    You are an expert comic strip prompt creator. Your task is to generate a single, detailed ready-to-use prompt for an image generation AI. \n",
    "    You will use the user-provided panel descriptions and a video to create a complete prompt.\n",
    "\n",
    "    ### User Inputs:\n",
    "    {user_input}\n",
    "    \n",
    "    ### Your Task & Instructions:\n",
    "\n",
    "    1. **Analyze and Enhance:** Watch the video at the provided URL: {video_url}. Based on the video's context, add relevant details to each of the four panel descriptions. Enhance the descriptions to make them more vivid and engaging.\n",
    "\n",
    "    2. **Generate a Single Prompt:** Your entire output must be one single, cohesive prompt for the image generator.\n",
    "\n",
    "    3. **Specify Format, Style, and Composition in the Final Prompt:** The final prompt you generate must explicitly instruct the image AI to create a comic strip with the following specifications:\n",
    "       - **Layout:** A **4-panel** layout, arranged in a **2x2 grid**. Each panel must be **clearly framed and equally spaced**.\n",
    "       - **Art Style:** A distinct **comic book art style only**. Strictly instruct for **no photorealism**.\n",
    "       - **Text Elements:** Appropriate **dialogue in speech bubbles** and descriptive **caption text** for each panel.\n",
    "       - **Compositional Integrity:** Ensure that **no part of the characters, speech bubbles, or dialogue is cropped or cut off** by the panel borders. All text inside speech bubbles must be **fully visible and legible**.\n",
    "\n",
    "    4. **Set the Tone:** The comic must be **humorous**. Instruct the image AI to capture **exaggerated timing and over-the-top reactions**, in the style of classic internet memes.  \n",
    "\n",
    "    5. **Content Moderation:**\n",
    "       * You must strictly filter the final prompt to **remove any harmful or inappropriate content**.\n",
    "       * **Handle Copyright-adjacent Material:**\n",
    "            * If the user's input mentions a movie title, you **must remove the movie title** from your generated prompt. \n",
    "            * However, if a character name is mentioned, **keep the character name**. Your prompt should instruct the image AI to create a character that *resembles* the mentioned character, but is not an exact replica.\n",
    "            * Replace any specific brands or logos with generic equivalents (e.g., \"a soda can\" instead of \"Coca-Cola can\").\n",
    "            \n",
    "    6. **Final Output:** Return only the final, complete prompt for the image AI without any of your own commentary, introductions, or extra text.\n",
    "    \"\"\"\n",
    "    \n",
    "    response = gemini_client.models.generate_content(\n",
    "        model=gemini_text_model,\n",
    "        contents=types.Content(\n",
    "            parts=[\n",
    "                types.Part(text=prompt),\n",
    "                types.Part(\n",
    "                    file_data=types.FileData(file_uri=video_url)\n",
    "                )\n",
    "            ]\n",
    "        )\n",
    "    )\n",
    "    \n",
    "    return response.text"
   ]
  },
  {
   "cell_type": "markdown",
   "id": "eca0f319",
   "metadata": {},
   "source": [
    "## Main Generation Pipeline \n"
   ]
  },
  {
   "cell_type": "code",
   "execution_count": null,
   "id": "8df739d7",
   "metadata": {},
   "outputs": [],
   "source": [
    "def generate_with_gemini_free(prompt):\n",
    "    \"\"\"Generate comic image using FREE Gemini 2.0 Flash Image Generation.\"\"\"\n",
    "    print(f\"🎨 Calling FREE Gemini 2.0 Flash Image (500/day limit)\")\n",
    "    print(f\"   Prompt length: {len(prompt)} chars\")\n",
    "    \n",
    "    # Generate image using FREE Gemini image generation\n",
    "    response = gemini_client.models.generate_content(\n",
    "        model=gemini_image_model,\n",
    "        contents=[prompt],\n",
    "        config=types.GenerateContentConfig(\n",
    "            response_modalities=[\"TEXT\", \"IMAGE\"]  \n",
    "        )\n",
    "    )\n",
    "    \n",
    "    # Extract image from response\n",
    "    for part in response.candidates[0].content.parts:\n",
    "        if part.inline_data is not None:\n",
    "            return part.inline_data.data  # Returns bytes\n",
    "        \n",
    "    raise Exception(\"No image data in Gemini response\")\n",
    "def save_image(image_data, filename=None): \n",
    "    \"\"\"Save the generated image to a file.\"\"\"\n",
    "    output_path = filename or output_file\n",
    "\n",
    "    if isinstance(image_data, bytes):\n",
    "        img = PILImage.open(BytesIO(image_data))\n",
    "    else:   \n",
    "        img = image_data\n",
    "\n",
    "    img.save(output_path)\n",
    "    print(f\"✅ Comic saved as '{output_path}'\")\n",
    "    return output_path  "
   ]
  },
  {
   "cell_type": "markdown",
   "id": "48d1013a",
   "metadata": {},
   "source": [
    "## Complete Comic Generation "
   ]
  },
  {
   "cell_type": "code",
   "execution_count": 55,
   "id": "e61764c8",
   "metadata": {},
   "outputs": [],
   "source": [
    "def generate_comic(video_url, user_input):\n",
    "    \"\"\"Complete comic generation pipeline using 100% FREE Gemini models.\"\"\"\n",
    "\n",
    "    # Step 1: Analyze video and enhance prompt (FREE)\n",
    "    print(\"🔍 Analyzing video with FREE Gemini 2.0 Flash...\")\n",
    "    try:\n",
    "        enhanced_prompt = extract_comic_prompt_and_enhance(video_url, user_input)\n",
    "        print(\"✅ Prompt enhancement complete.\")\n",
    "        print(f\"\\n📝 Enhanced Prompt:\\n{enhanced_prompt}\\n\")\n",
    "    except Exception as e:\n",
    "        print(f\"❌ Failed to analyze video:\")\n",
    "        print(f\"   Error: {str(e)}\")\n",
    "        return None\n",
    "\n",
    "    # Step 2: Generate comic image (FREE - 500/day limit)\n",
    "    print(\"🎨 Generating comic with FREE Gemini image generation...\")\n",
    "    try:\n",
    "        image_data = generate_with_gemini_free(enhanced_prompt)\n",
    "    except Exception as e:\n",
    "        print(f\"❌ Failed to generate image:\")\n",
    "        print(f\"   Error type: {type(e).__name__}\")\n",
    "        print(f\"   Error message: {str(e)}\")\n",
    "        \n",
    "        # Check if it's a quota error\n",
    "        if \"429\" in str(e) or \"quota\" in str(e).lower():\n",
    "            print(\"\\n⚠️  You may have hit the daily limit (500 images/day)\")\n",
    "            print(\"   Daily quota resets at midnight Pacific Time\")\n",
    "        \n",
    "        return None\n",
    "\n",
    "    # Step 3: Save the generated image\n",
    "    print(\"💾 Saving the generated comic image...\")\n",
    "    output_path = save_image(image_data)\n",
    "    return output_path"
   ]
  },
  {
   "cell_type": "markdown",
   "id": "b6756ecd",
   "metadata": {},
   "source": [
    "### Usage Example"
   ]
  },
  {
   "cell_type": "code",
   "execution_count": 56,
   "id": "8f779138",
   "metadata": {},
   "outputs": [
    {
     "name": "stdout",
     "output_type": "stream",
     "text": [
      "🔍 Analyzing video with FREE Gemini 2.0 Flash...\n",
      "✅ Prompt enhancement complete.\n",
      "\n",
      "📝 Enhanced Prompt:\n",
      "Create a humorous 4-panel comic strip in a 2x2 grid layout, drawn in a distinct comic book art style (no photorealism). Each panel should be clearly framed and equally spaced. Ensure all elements within each panel, including characters, speech bubbles, and dialogue, are fully visible and not cropped. The dialogue must be legible. The comic should convey exaggerated timing and over-the-top reactions, reminiscent of classic internet memes.\n",
      "\n",
      "Panel 1: A young princess, dressed in an elaborate, jewel-toned gown, stands demurely in a sunlit garden, holding a bouquet of flowers. Her expression is one of innocent joy. Caption: \"The princess I was...\" Speech bubble: \"Oh, Sir Knight, your kindness overwhelms me!\"\n",
      "\n",
      "Panel 2: A grizzled knight in shining armor, helmet slightly askew, kneels before the princess, offering her a wilted daisy. A mud stain is visible on his armor. His expression is overly sincere and goofy. Speech bubble: \"My fair princess, I have faced dragons and trolls to bring you this...well, flower.\"\n",
      "\n",
      "Panel 3: The princess, now wearing a fierce expression, is clad in battle armor, brandishing a sword almost as big as herself. Sparks fly from the blade. Caption: \"The princess they made...\" Speech bubble: \"So, you thought that daisy would impress me?!\"\n",
      "\n",
      "Panel 4: The knight, in tattered armor, cowers behind a large rock, clutching a generic soda can for protection. The princess's sword has sliced the rock in half, leaving a clean cut. Speech bubble: \"Wait! I can explain! It was the dragon's fault! He ate all the good flowers!\" The princess stands over him looking enraged.\n",
      "\n",
      "🎨 Generating comic with FREE Gemini image generation...\n",
      "🎨 Calling FREE Gemini 2.0 Flash Image (500/day limit)\n",
      "   Prompt length: 1600 chars\n",
      "💾 Saving the generated comic image...\n",
      "✅ Comic saved as 'comic_image.png'\n",
      "Comic generated and saved to: comic_image.png\n"
     ]
    }
   ],
   "source": [
    "# Example usage\n",
    "video_url = \"https://www.youtube.com/shorts/_q_NIQwwClc\"\n",
    "user_input = \"\"\"  \n",
    "Make the Girl a princess and the boy a knight.\n",
    "\"\"\"\n",
    "\n",
    "# Generate the comic\n",
    "output_path = generate_comic(video_url, user_input)\n",
    "\n",
    "if output_path:\n",
    "    print(f\"Comic generated and saved to: {output_path}\")\n",
    "\n",
    "    # Display the generated comic\n",
    "    img = PILImage.open(output_path)\n",
    "    img.show()  # Opens the image in default image viewer\n",
    "\n",
    "else:\n",
    "    print(\"Comic generation failed.\")    "
   ]
  },
  {
   "cell_type": "markdown",
   "id": "e7620539",
   "metadata": {},
   "source": [
    "### Interactive Usage"
   ]
  },
  {
   "cell_type": "code",
   "execution_count": 46,
   "id": "d746532d",
   "metadata": {},
   "outputs": [
    {
     "name": "stdout",
     "output_type": "stream",
     "text": [
      "🔍 Analyzing video with FREE Gemini 2.0 Flash...\n",
      "✅ Prompt enhancement complete.\n",
      "\n",
      "📝 Enhanced Prompt:\n",
      "```\n",
      "Create a 4-panel comic strip, laid out in a 2x2 grid. The art style is classic comic book style only, no photorealism. Each panel should be clearly framed, equally spaced, and contain dialogue in speech bubbles and descriptive caption text. No part of the characters, speech bubbles, or dialogue should be cropped; all text must be fully visible and legible. The tone of the comic should be humorous, with exaggerated timing and over-the-top reactions, in the style of classic internet memes.\n",
      "\n",
      "Panel 1:\n",
      "Caption: \"Year 2024. Rajveer has been waiting for his beloved Priya for what feels like an eternity.\"\n",
      "A young man, resembling an Indian actor wearing a bright red turban in the style of the referenced song, sits on a park bench, looking expectantly at a digital smartwatch. He's dressed in modern clothing. Speech bubble: \"She said 5 PM... It's 5:02! Where is she?\"\n",
      "\n",
      "Panel 2:\n",
      "Caption: \"Year 2074. Rajveer is now an old man, but his love hasn't faded!\"\n",
      "Rajveer, visibly aged with a long white beard, sits on the same park bench, now weathered and overgrown with vines. He's holding a futuristic tablet, staring intently. Speech bubble: \"Still... waiting... She's always fashionably LATE!\"\n",
      "\n",
      "Panel 3:\n",
      "Caption: \"Year 2124. Is this dedication or just plain stubbornness?\"\n",
      "Rajveer's skeleton, still wearing the turban and clothes, sits on the now-dilapidated bench, surrounded by overgrown plants and futuristic trash. He's holding a corroded data storage device. Caption in the panel: \"Please load\".\n",
      "\n",
      "Panel 4:\n",
      "Caption: \"Year 2224. Rajveer's love transcends time itself!\"\n",
      "A sentient robot that is clearly built in the image and likeness of Rajveer now sits on the bench with a new modern look. He is wearing a new turban that is glowing and is holding a floating memory orb staring into it. A small flying drone whirs nearby. Speech bubble: \"Calculating... possible arrival time... Still not calculated yet!\"\n",
      "\n",
      "```\n",
      "\n",
      "🎨 Generating comic with FREE Gemini image generation...\n",
      "🎨 Calling FREE Gemini 2.0 Flash Image (500/day limit)\n",
      "   Prompt length: 1914 chars\n",
      "💾 Saving the generated comic image...\n",
      "✅ Comic saved as 'comic_image.png'\n",
      "Comic generated and saved to: comic_image.png\n"
     ]
    }
   ],
   "source": [
    "# Interactive input version\n",
    "video_url = input(\"Enter the video URL: \").strip()\n",
    "user_input = input(\"Enter your comic description: \").strip()\n",
    "\n",
    "if video_url and user_input:\n",
    "    output_path = generate_comic(video_url, user_input)\n",
    "\n",
    "    if output_path:\n",
    "        print(f\"Comic generated and saved to: {output_path}\")\n",
    "\n",
    "        # Display the generated comic\n",
    "        img = PILImage.open(output_path)\n",
    "        img.show()  # Opens the image in default image viewer\n",
    "\n",
    "    else:\n",
    "        print(\"Comic generation failed. Please provide both video URL and description.\")"
   ]
  }
 ],
 "metadata": {
  "kernelspec": {
   "display_name": "venv",
   "language": "python",
   "name": "python3"
  },
  "language_info": {
   "codemirror_mode": {
    "name": "ipython",
    "version": 3
   },
   "file_extension": ".py",
   "mimetype": "text/x-python",
   "name": "python",
   "nbconvert_exporter": "python",
   "pygments_lexer": "ipython3",
   "version": "3.12.7"
  }
 },
 "nbformat": 4,
 "nbformat_minor": 5
}
