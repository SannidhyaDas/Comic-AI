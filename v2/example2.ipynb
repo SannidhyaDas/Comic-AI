{
 "cells": [
  {
   "cell_type": "code",
   "execution_count": 8,
   "id": "470743e9",
   "metadata": {},
   "outputs": [],
   "source": [
    "import os \n",
    "from google import genai\n",
    "from google.genai import types\n",
    "from google.genai.types import Part\n",
    "from openai import OpenAI\n",
    "import base64\n",
    "from io import BytesIO\n",
    "from PIL import Image as PILImage \n",
    "from dotenv import load_dotenv"
   ]
  },
  {
   "cell_type": "markdown",
   "id": "6279990e",
   "metadata": {},
   "source": [
    "## Configuration\n",
    "- Loads API keys from .env\n",
    "- Sets OpenAI and Gemini clients\n",
    "- Defines which model to use first (primary_service) and which to use it it fails(fallback_service).\n",
    "- Keeps output file name and model names as variables for flexibility. "
   ]
  },
  {
   "cell_type": "code",
   "execution_count": 9,
   "id": "d2c0f8ec",
   "metadata": {},
   "outputs": [],
   "source": [
    "load_dotenv()\n",
    "openai_api_key = os.getenv(\"OPENAI_API_KEY\")\n",
    "gemini_api_key = os.getenv(\"GEMINI_API_KEY\")\n",
    "\n",
    "#Export to environment\n",
    "os.environ[\"OPENAI_API_KEY\"] = openai_api_key\n",
    "os.environ[\"GEMINI_API_KEY\"] = gemini_api_key"
   ]
  },
  {
   "cell_type": "code",
   "execution_count": 10,
   "id": "62b7da34",
   "metadata": {},
   "outputs": [],
   "source": [
    "#Initialize clients\n",
    "openai_client = OpenAI(api_key=openai_api_key)\n",
    "gemini_client = genai.Client(api_key=gemini_api_key)"
   ]
  },
  {
   "cell_type": "code",
   "execution_count": 22,
   "id": "a101c25d",
   "metadata": {},
   "outputs": [],
   "source": [
    "#Configuration\n",
    "primary_service = \"openai\"  #  or \"imagen\"\n",
    "fallback_service = \"imagen\" #  or \"openai\"\n",
    "output_file = \"comic_image.png\"\n",
    "openai_model = \"gpt-image-1\"\n",
    "imagen_model = \"imagen-4.0-generate-001\"  #\"imagen-4.0-generate-preview-06-06\"  \n",
    "gemini_model = \"gemini-2.0-flash\" "
   ]
  },
  {
   "cell_type": "markdown",
   "id": "203a1478",
   "metadata": {},
   "source": [
    "## Video Analysis and Prompt Enhancement\n",
    "- Takes a video URL and user's input description.\n",
    "- Sends both to Gemini, asking it to enhance and rewrite the input as a single structured prompt for a comic strip .\n",
    "- Returns the final enhanced prompt. "
   ]
  },
  {
   "cell_type": "code",
   "execution_count": 28,
   "id": "4ef0c80e",
   "metadata": {},
   "outputs": [],
   "source": [
    "def extract_comic_prompt_and_enhance(video_url, user_input):\n",
    "    \"\"\"Extract and enhance comic prompt using Gemini.\"\"\"\n",
    "    prompt = f\"\"\"\n",
    "    You are an expert comic strip prompt creator. Your task is to generate a single, detailed ready-to-use prompt for an image generation AI. \n",
    "    You will use the user-provided panel descriptions and a video to create a complete prompt.\n",
    "\n",
    "    ### User Inputs:\n",
    "    {user_input}\n",
    "    \n",
    "    ### Your Task & Instructions:\n",
    "\n",
    "    1. **Analyze and Enhance:** Watch the video at the provided URL: {video_url}. Based on the video's context, add relevant details to each of the four panel descriptions. Enhance the descriptions to make them more vivid and engaging.\n",
    "\n",
    "    2. **Generate a Single Prompt:** Your entire output must be one single, cohesive prompt for the image generator.\n",
    "\n",
    "    3. **Specify Format, Style, and Composition in the Final Prompt:** The final prompt you generate must explicitly instruct the image AI to create a comic strip with the following specifications:\n",
    "       - **Layout:** A **4-panel** layout, arranged in a **2x2 grid**. Each panel must be **clearly framed and equally spaced**.\n",
    "       - **Art Style:** A distinct **comic book art style only**. Strictly instruct for **no photorealism**.\n",
    "       - **Text Elements:** Appropriate **dialogue in speech bubbles** and descriptive **caption text** for each panel.\n",
    "       - **Compositional Integrity:** Ensure that **no part of the characters, speech bubbles, or dialogue is cropped or cut off** by the panel borders. All text inside speech bubbles must be **fully visible and legible**.\n",
    "\n",
    "    4. **Set the Tone:** The comic must be **humorous**. Instruct the image AI to capture **exaggerated timing and over-the-top reactions**, in the style of classic internet memes.  \n",
    "\n",
    "    5. **Content Moderation:**\n",
    "       * You must strictly filter the final prompt to **remove any harmful or inappropriate content**.\n",
    "       * **Handle Copyright-adjacent Material:**\n",
    "            * If the user's input mentions a movie title, you **must remove the movie title** from your generated prompt. \n",
    "            * However, if a character name is mentioned, **keep the character name**. Your prompt should instruct the image AI to create a character that *resembles* the mentioned character, but is not an exact replica.\n",
    "            * Replace any specific brands or logos with generic equivalents (e.g., \"a soda can\" instead of \"Coca-Cola can\").\n",
    "            \n",
    "    6. **Final Output:** Return only the final, complete prompt for the image AI without any of your own commentary, introductions, or extra text.\n",
    "    \"\"\"\n",
    "    \n",
    "    # FIXED: Correct way to pass video URL to Gemini\n",
    "    response = gemini_client.models.generate_content(\n",
    "        model=gemini_model,\n",
    "        contents=types.Content(\n",
    "            parts=[\n",
    "                types.Part(text=prompt),\n",
    "                types.Part(\n",
    "                    file_data=types.FileData(file_uri=video_url)  # FIXED!\n",
    "                )\n",
    "            ]\n",
    "        )\n",
    "    )\n",
    "    \n",
    "    return response.text"
   ]
  },
  {
   "cell_type": "markdown",
   "id": "dd08ff8f",
   "metadata": {},
   "source": [
    "## Image Generation Functions\n",
    "- Uses OpenAI's gpt-image-1 model to generate an image from the prompt.\n",
    "- Converts base64-encoded response into raw image bytes.\n",
    "- Uses Google Imagen to generate a single comic image. \n",
    "- Returns the image object. "
   ]
  },
  {
   "cell_type": "code",
   "execution_count": 33,
   "id": "93e5cdb9",
   "metadata": {},
   "outputs": [],
   "source": [
    "# OpenAI Image Generation\n",
    "def generate_with_openai(prompt):\n",
    "    \"\"\"Generate image using OpenAI's gpt-image-1 model.\"\"\"\n",
    "    print(f\"Calling OpenAI with prompt length: {len(prompt)} chars\")\n",
    "    result = openai_client.images.generate(\n",
    "        model=openai_model,\n",
    "        prompt=prompt,\n",
    "        size=\"1024x1024\"  \n",
    "    )\n",
    "\n",
    "    # gpt-image-1 always returns b64_json by default\n",
    "    image_data = result.data[0].b64_json\n",
    "    image_bytes = base64.b64decode(image_data)\n",
    "    return image_bytes\n",
    "\n",
    "# Google Imagen Generation\n",
    "def generate_with_imagen(prompt):\n",
    "    \"\"\"Generate image using Google Imagen.\"\"\"\n",
    "    print(f\"Calling Imagen with prompt length: {len(prompt)} chars\")\n",
    "    response = gemini_client.models.generate_images(\n",
    "        model=imagen_model,\n",
    "        prompt=prompt,\n",
    "        config=types.GenerateImagesConfig(\n",
    "            number_of_images=1,\n",
    "            aspect_ratio=\"1:1\"  # Added aspect ratio\n",
    "        )\n",
    "    )\n",
    "    \n",
    "    return response.generated_images[0].image \n"
   ]
  },
  {
   "cell_type": "markdown",
   "id": "eca0f319",
   "metadata": {},
   "source": [
    "## Main Generation Pipeline \n",
    "- Tries generating an image using primary service (e.g. OpenAI)\n",
    "- If it fails, switches to fallback service (e.g. Imagen).\n",
    "- Ensures program doesn't crash if one model is unavailable. "
   ]
  },
  {
   "cell_type": "code",
   "execution_count": 34,
   "id": "8df739d7",
   "metadata": {},
   "outputs": [],
   "source": [
    "def generate_image_with_fallback(prompt):\n",
    "    \"\"\"Generate image using primary service, fallback to secondary if needed.\"\"\"\n",
    "    services = {\n",
    "        \"openai\": generate_with_openai,\n",
    "        \"imagen\": generate_with_imagen\n",
    "    }\n",
    "\n",
    "    # Try primary service\n",
    "    try:\n",
    "        if primary_service in services:\n",
    "            print(f\"Attempting primary service: {primary_service}\")\n",
    "            return services[primary_service](prompt)\n",
    "        \n",
    "    except Exception as e:  # FIXED: Catch and print the actual error\n",
    "        print(f\"❌ Primary service ({primary_service}) failed with error:\")\n",
    "        print(f\"   Error type: {type(e).__name__}\")\n",
    "        print(f\"   Error message: {str(e)}\")\n",
    "        print(f\"   Trying fallback service...\")\n",
    "\n",
    "    # Try fallback service\n",
    "    try:\n",
    "        if fallback_service in services and fallback_service != primary_service:\n",
    "            print(f\"Attempting fallback service: {fallback_service}\")\n",
    "            return services[fallback_service](prompt)        \n",
    "    except Exception as e:  # FIXED: Catch and print the actual error\n",
    "        print(f\"❌ Fallback service ({fallback_service}) also failed with error:\")\n",
    "        print(f\"   Error type: {type(e).__name__}\")\n",
    "        print(f\"   Error message: {str(e)}\")\n",
    "        return None    \n",
    "\n",
    "def save_image(image_data, filename=None): \n",
    "    \"\"\"Save the generated image to a file.\"\"\"\n",
    "    output_path = filename or output_file\n",
    "\n",
    "    # Handle both bytes and image objects\n",
    "    if isinstance(image_data, bytes):\n",
    "        img = PILImage.open(BytesIO(image_data))\n",
    "    else:   \n",
    "        img = image_data\n",
    "\n",
    "    img.save(output_path)\n",
    "    print(f\"✅ Comic saved as '{output_path}'\")\n",
    "    return output_path "
   ]
  },
  {
   "cell_type": "markdown",
   "id": "48d1013a",
   "metadata": {},
   "source": [
    "## Complete Comic Generation "
   ]
  },
  {
   "cell_type": "code",
   "execution_count": 35,
   "id": "e61764c8",
   "metadata": {},
   "outputs": [],
   "source": [
    "def generate_comic(video_url, user_input):\n",
    "    \"\"\"Complete comic generation pipeline.\"\"\"\n",
    "\n",
    "    # Step 1: Analyse video and enhance prompt\n",
    "    print(\"Analyzing video and enhancing prompt...\")\n",
    "    try:\n",
    "        enhanced_prompt = extract_comic_prompt_and_enhance(video_url, user_input)\n",
    "        print(\"✅ Prompt enhancement complete.\")\n",
    "        print(f\"\\n📝 Enhanced Prompt:\\n{enhanced_prompt}\\n\")\n",
    "    except Exception as e:\n",
    "        print(f\"❌ Failed to analyze video:\")\n",
    "        print(f\"   Error type: {type(e).__name__}\")\n",
    "        print(f\"   Error message: {str(e)}\")\n",
    "        return None\n",
    "\n",
    "    # Step 2: Generate image \n",
    "    print(\"Generating image...\")\n",
    "    image_data = generate_image_with_fallback(enhanced_prompt)\n",
    "    if image_data is None:\n",
    "        print(\"❌ Failed to generate image.\")\n",
    "        return None\n",
    "\n",
    "    # Step 3: Save the generated image\n",
    "    print(\"Saving the generated comic image...\")\n",
    "    output_path = save_image(image_data)\n",
    "    return output_path\n"
   ]
  },
  {
   "cell_type": "markdown",
   "id": "b6756ecd",
   "metadata": {},
   "source": [
    "### Usage Example"
   ]
  },
  {
   "cell_type": "code",
   "execution_count": 36,
   "id": "8f779138",
   "metadata": {},
   "outputs": [
    {
     "name": "stdout",
     "output_type": "stream",
     "text": [
      "Analyzing video and enhancing prompt...\n",
      "✅ Prompt enhancement complete.\n",
      "\n",
      "📝 Enhanced Prompt:\n",
      "A four-panel comic strip in a vibrant comic book art style, not photorealistic, arranged in a 2x2 grid with clearly framed panels and equal spacing. Exaggerated timing and over-the-top reactions in the style of classic internet memes.\n",
      "\n",
      "Panel 1: Caption: \"Before the Quest.\" A beautiful, joyful princess with long flowing hair, resembling no one in particular, stands in a sunlit garden, her flowing gown sparkling with magical light. She holds a bouquet of flowers and smiles radiantly. Dialogue bubble: \"Oh, what a lovely day for a stroll!\"\n",
      "\n",
      "Panel 2: Caption: \"The Call to Adventure.\" The knight, in shining but slightly dented armor, resembling no one in particular, bursts through the garden gate, his face panicked. Dialogue bubble: \"Princess! The kingdom is in peril! We must leave at once!\"\n",
      "\n",
      "Panel 3: Caption: \"The Transformation.\" The princess, now with a determined look in her eyes, swaps her beautiful gown for practical traveling clothes with armor, and grabs a sword. The knight stares, mouth agape, with comically wide eyes. Dialogue bubble (Princess): \"Let's go! The kingdom needs us!\" Dialogue bubble (Knight): \"Wait, what?\"\n",
      "\n",
      "Panel 4: Caption: \"Onwards!\". The princess and the knight charge towards an unseen danger, faces set in grim determination, both with sweat dripping down their faces. Dust and wind swirl around them. The knight is panting heavily, trying to keep up. Dialogue bubble (Knight): \"Are you sure we couldn't have taken the carriage?\" All text inside speech bubbles and captions must be fully visible and legible, with no part of the characters or speech bubbles cropped or cut off by the panel borders.\n",
      "\n",
      "Generating image...\n",
      "Attempting primary service: openai\n",
      "Calling OpenAI with prompt length: 1637 chars\n",
      "❌ Primary service (openai) failed with error:\n",
      "   Error type: BadRequestError\n",
      "   Error message: Error code: 400 - {'error': {'message': 'Billing hard limit has been reached.', 'type': 'billing_limit_user_error', 'param': None, 'code': 'billing_hard_limit_reached'}}\n",
      "   Trying fallback service...\n",
      "Attempting fallback service: imagen\n",
      "Calling Imagen with prompt length: 1637 chars\n",
      "❌ Fallback service (imagen) also failed with error:\n",
      "   Error type: ClientError\n",
      "   Error message: 400 INVALID_ARGUMENT. {'error': {'code': 400, 'message': 'Imagen API is only accessible to billed users at this time.', 'status': 'INVALID_ARGUMENT'}}\n",
      "❌ Failed to generate image.\n",
      "Comic generation failed.\n"
     ]
    }
   ],
   "source": [
    "# Example usage\n",
    "video_url = \"https://www.youtube.com/shorts/_q_NIQwwClc\"\n",
    "user_input = \"\"\"  \n",
    "Make the Girl a princess and the boy a knight.\n",
    "\"\"\"\n",
    "\n",
    "# Generate the comic\n",
    "output_path = generate_comic(video_url, user_input)\n",
    "\n",
    "if output_path:\n",
    "    print(f\"Comic generated and saved to: {output_path}\")\n",
    "\n",
    "    # Display the generated comic\n",
    "    img = PILImage.open(output_path)\n",
    "    img.show()  # Opens the image in default image viewer\n",
    "\n",
    "else:\n",
    "    print(\"Comic generation failed.\")    "
   ]
  },
  {
   "cell_type": "markdown",
   "id": "e7620539",
   "metadata": {},
   "source": [
    "### Interactive Usage"
   ]
  },
  {
   "cell_type": "code",
   "execution_count": null,
   "id": "d746532d",
   "metadata": {},
   "outputs": [],
   "source": [
    "# Interactive input version\n",
    "video_url = input(\"Enter the video URL: \").strip()\n",
    "user_input = input(\"Enter your comic description: \").strip()\n",
    "\n",
    "if video_url and user_input:\n",
    "    output_path = generate_comic(video_url, user_input)\n",
    "\n",
    "    if output_path:\n",
    "        print(f\"Comic generated and saved to: {output_path}\")\n",
    "\n",
    "        # Display the generated comic\n",
    "        img = PILImage.open(output_path)\n",
    "        img.show()  # Opens the image in default image viewer\n",
    "\n",
    "    else:\n",
    "        print(\"Comic generation failed. Please provide both video URL and description.\")"
   ]
  }
 ],
 "metadata": {
  "kernelspec": {
   "display_name": "venv",
   "language": "python",
   "name": "python3"
  },
  "language_info": {
   "codemirror_mode": {
    "name": "ipython",
    "version": 3
   },
   "file_extension": ".py",
   "mimetype": "text/x-python",
   "name": "python",
   "nbconvert_exporter": "python",
   "pygments_lexer": "ipython3",
   "version": "3.12.7"
  }
 },
 "nbformat": 4,
 "nbformat_minor": 5
}
